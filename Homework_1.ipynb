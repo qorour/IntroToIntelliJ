{
  "nbformat": 4,
  "nbformat_minor": 0,
  "metadata": {
    "colab": {
      "name": "Homework 1.ipynb",
      "provenance": [],
      "collapsed_sections": [],
      "authorship_tag": "ABX9TyO0aC3ma1wgiTtqhhV1VxFI",
      "include_colab_link": true
    },
    "kernelspec": {
      "name": "python3",
      "display_name": "Python 3"
    },
    "language_info": {
      "name": "python"
    }
  },
  "cells": [
    {
      "cell_type": "markdown",
      "metadata": {
        "id": "view-in-github",
        "colab_type": "text"
      },
      "source": [
        "<a href=\"https://colab.research.google.com/github/qorour/IntroToIntelliJ/blob/master/Homework_1.ipynb\" target=\"_parent\"><img src=\"https://colab.research.google.com/assets/colab-badge.svg\" alt=\"Open In Colab\"/></a>"
      ]
    },
    {
      "cell_type": "markdown",
      "metadata": {
        "id": "0ys7d8MTnQ-s"
      },
      "source": [
        ""
      ]
    },
    {
      "cell_type": "code",
      "metadata": {
        "id": "hp6kRUK9m9YT"
      },
      "source": [
        "from scipy.io import arff\n",
        "import pandas as pd\n",
        "import matplotlib.pyplot as plt\n",
        "import seaborn as sns\n",
        "import io # for io.StringIO()\n",
        "\n",
        "%matplotlib inline"
      ],
      "execution_count": 247,
      "outputs": []
    },
    {
      "cell_type": "code",
      "metadata": {
        "colab": {
          "base_uri": "https://localhost:8080/",
          "height": 204
        },
        "id": "DGvsKKeVnO9r",
        "outputId": "23c865c6-3304-47e4-f04d-fe066303738f"
      },
      "source": [
        "# data = arff.loadarff('https://courses.engr.illinois.edu/cs361/sp2019/hotdogs.txt') \n",
        "# data = pd.read_csv('/csv_result-NuclearPlants.csv', error_bad_lines=False)\n",
        "data=pd.read_csv(\"https://courses.engr.illinois.edu/cs361/sp2019/hotdogs.txt\", skiprows= 12, sep='\\t')\n",
        "data.head()"
      ],
      "execution_count": 248,
      "outputs": [
        {
          "output_type": "execute_result",
          "data": {
            "text/html": [
              "<div>\n",
              "<style scoped>\n",
              "    .dataframe tbody tr th:only-of-type {\n",
              "        vertical-align: middle;\n",
              "    }\n",
              "\n",
              "    .dataframe tbody tr th {\n",
              "        vertical-align: top;\n",
              "    }\n",
              "\n",
              "    .dataframe thead th {\n",
              "        text-align: right;\n",
              "    }\n",
              "</style>\n",
              "<table border=\"1\" class=\"dataframe\">\n",
              "  <thead>\n",
              "    <tr style=\"text-align: right;\">\n",
              "      <th></th>\n",
              "      <th>Type</th>\n",
              "      <th>Calories</th>\n",
              "      <th>Sodium</th>\n",
              "    </tr>\n",
              "  </thead>\n",
              "  <tbody>\n",
              "    <tr>\n",
              "      <th>0</th>\n",
              "      <td>Beef</td>\n",
              "      <td>186</td>\n",
              "      <td>495</td>\n",
              "    </tr>\n",
              "    <tr>\n",
              "      <th>1</th>\n",
              "      <td>Beef</td>\n",
              "      <td>181</td>\n",
              "      <td>477</td>\n",
              "    </tr>\n",
              "    <tr>\n",
              "      <th>2</th>\n",
              "      <td>Beef</td>\n",
              "      <td>176</td>\n",
              "      <td>425</td>\n",
              "    </tr>\n",
              "    <tr>\n",
              "      <th>3</th>\n",
              "      <td>Beef</td>\n",
              "      <td>149</td>\n",
              "      <td>322</td>\n",
              "    </tr>\n",
              "    <tr>\n",
              "      <th>4</th>\n",
              "      <td>Beef</td>\n",
              "      <td>184</td>\n",
              "      <td>482</td>\n",
              "    </tr>\n",
              "  </tbody>\n",
              "</table>\n",
              "</div>"
            ],
            "text/plain": [
              "   Type  Calories  Sodium\n",
              "0  Beef       186     495\n",
              "1  Beef       181     477\n",
              "2  Beef       176     425\n",
              "3  Beef       149     322\n",
              "4  Beef       184     482"
            ]
          },
          "metadata": {},
          "execution_count": 248
        }
      ]
    },
    {
      "cell_type": "code",
      "metadata": {
        "colab": {
          "base_uri": "https://localhost:8080/",
          "height": 359
        },
        "id": "14l4GLEj68Gt",
        "outputId": "cb44db4c-9961-48ed-ed3c-446e2d4f8cbd"
      },
      "source": [
        "data.sample(10)"
      ],
      "execution_count": 249,
      "outputs": [
        {
          "output_type": "execute_result",
          "data": {
            "text/html": [
              "<div>\n",
              "<style scoped>\n",
              "    .dataframe tbody tr th:only-of-type {\n",
              "        vertical-align: middle;\n",
              "    }\n",
              "\n",
              "    .dataframe tbody tr th {\n",
              "        vertical-align: top;\n",
              "    }\n",
              "\n",
              "    .dataframe thead th {\n",
              "        text-align: right;\n",
              "    }\n",
              "</style>\n",
              "<table border=\"1\" class=\"dataframe\">\n",
              "  <thead>\n",
              "    <tr style=\"text-align: right;\">\n",
              "      <th></th>\n",
              "      <th>Type</th>\n",
              "      <th>Calories</th>\n",
              "      <th>Sodium</th>\n",
              "    </tr>\n",
              "  </thead>\n",
              "  <tbody>\n",
              "    <tr>\n",
              "      <th>41</th>\n",
              "      <td>Poultry</td>\n",
              "      <td>94</td>\n",
              "      <td>387</td>\n",
              "    </tr>\n",
              "    <tr>\n",
              "      <th>44</th>\n",
              "      <td>Poultry</td>\n",
              "      <td>99</td>\n",
              "      <td>357</td>\n",
              "    </tr>\n",
              "    <tr>\n",
              "      <th>8</th>\n",
              "      <td>Beef</td>\n",
              "      <td>175</td>\n",
              "      <td>479</td>\n",
              "    </tr>\n",
              "    <tr>\n",
              "      <th>1</th>\n",
              "      <td>Beef</td>\n",
              "      <td>181</td>\n",
              "      <td>477</td>\n",
              "    </tr>\n",
              "    <tr>\n",
              "      <th>50</th>\n",
              "      <td>Poultry</td>\n",
              "      <td>143</td>\n",
              "      <td>581</td>\n",
              "    </tr>\n",
              "    <tr>\n",
              "      <th>16</th>\n",
              "      <td>Beef</td>\n",
              "      <td>131</td>\n",
              "      <td>317</td>\n",
              "    </tr>\n",
              "    <tr>\n",
              "      <th>38</th>\n",
              "      <td>Poultry</td>\n",
              "      <td>132</td>\n",
              "      <td>375</td>\n",
              "    </tr>\n",
              "    <tr>\n",
              "      <th>32</th>\n",
              "      <td>Meat</td>\n",
              "      <td>107</td>\n",
              "      <td>144</td>\n",
              "    </tr>\n",
              "    <tr>\n",
              "      <th>33</th>\n",
              "      <td>Meat</td>\n",
              "      <td>195</td>\n",
              "      <td>511</td>\n",
              "    </tr>\n",
              "    <tr>\n",
              "      <th>53</th>\n",
              "      <td>Poultry</td>\n",
              "      <td>144</td>\n",
              "      <td>545</td>\n",
              "    </tr>\n",
              "  </tbody>\n",
              "</table>\n",
              "</div>"
            ],
            "text/plain": [
              "       Type  Calories  Sodium\n",
              "41  Poultry        94     387\n",
              "44  Poultry        99     357\n",
              "8      Beef       175     479\n",
              "1      Beef       181     477\n",
              "50  Poultry       143     581\n",
              "16     Beef       131     317\n",
              "38  Poultry       132     375\n",
              "32     Meat       107     144\n",
              "33     Meat       195     511\n",
              "53  Poultry       144     545"
            ]
          },
          "metadata": {},
          "execution_count": 249
        }
      ]
    },
    {
      "cell_type": "code",
      "metadata": {
        "colab": {
          "base_uri": "https://localhost:8080/"
        },
        "id": "b1oL-9t97TcK",
        "outputId": "b03c9c56-8b0e-4895-a15d-bc2039319e34"
      },
      "source": [
        "num_cal = data['Calories'].value_counts()\n",
        "num_cal\n"
      ],
      "execution_count": 250,
      "outputs": [
        {
          "output_type": "execute_result",
          "data": {
            "text/plain": [
              "190    3\n",
              "135    3\n",
              "153    2\n",
              "175    2\n",
              "152    2\n",
              "146    2\n",
              "102    2\n",
              "107    2\n",
              "149    2\n",
              "139    2\n",
              "132    2\n",
              "140    1\n",
              "86     1\n",
              "138    1\n",
              "142    1\n",
              "136    1\n",
              "94     1\n",
              "144    1\n",
              "195    1\n",
              "147    1\n",
              "148    1\n",
              "131    1\n",
              "141    1\n",
              "191    1\n",
              "87     1\n",
              "176    1\n",
              "186    1\n",
              "184    1\n",
              "182    1\n",
              "181    1\n",
              "179    1\n",
              "113    1\n",
              "173    1\n",
              "157    1\n",
              "172    1\n",
              "106    1\n",
              "111    1\n",
              "99     1\n",
              "143    1\n",
              "158    1\n",
              "129    1\n",
              "Name: Calories, dtype: int64"
            ]
          },
          "metadata": {},
          "execution_count": 250
        }
      ]
    },
    {
      "cell_type": "code",
      "metadata": {
        "colab": {
          "base_uri": "https://localhost:8080/",
          "height": 350
        },
        "id": "nPoSdlCy8O04",
        "outputId": "9afed535-afb0-4a8e-d226-c86ef87d3780"
      },
      "source": [
        "#1.12:\n",
        "n_bins = 54\n",
        "plt.subplot(1, 2, 1)\n",
        "plt.xlabel('Calories')\n",
        "plt.ylabel('Count')\n",
        "\n",
        "beef = data[data['Type'] == 'Beef']\n",
        "meat = data[data['Type'] == 'Meat']\n",
        "poultry = data[data['Type'] == 'Poultry']\n",
        "shades = ['orange', 'red', 'blue']\n",
        "names = ['beef', 'meat', 'poultry']\n",
        "x_multi = [beef['Calories'],meat['Calories'],poultry['Calories']]\n",
        "plt.hist(x_multi, n_bins, histtype='bar',color=shades,label= names)\n",
        "plt.legend(prop={'size': 5})\n"
      ],
      "execution_count": 251,
      "outputs": [
        {
          "output_type": "stream",
          "name": "stderr",
          "text": [
            "/usr/local/lib/python3.7/dist-packages/numpy/core/_asarray.py:83: VisibleDeprecationWarning: Creating an ndarray from ragged nested sequences (which is a list-or-tuple of lists-or-tuples-or ndarrays with different lengths or shapes) is deprecated. If you meant to do this, you must specify 'dtype=object' when creating the ndarray\n",
            "  return array(a, dtype, copy=False, order=order)\n"
          ]
        },
        {
          "output_type": "execute_result",
          "data": {
            "text/plain": [
              "<matplotlib.legend.Legend at 0x7f3850bdbd10>"
            ]
          },
          "metadata": {},
          "execution_count": 251
        },
        {
          "output_type": "display_data",
          "data": {
            "image/png": "[encoded data removed]",
            "text/plain": [
              "<Figure size 432x288 with 1 Axes>"
            ]
          },
          "metadata": {
            "needs_background": "light"
          }
        }
      ]
    },
    {
      "cell_type": "code",
      "metadata": {
        "colab": {
          "base_uri": "https://localhost:8080/",
          "height": 350
        },
        "id": "AqBb6DjGpkSz",
        "outputId": "ae4619e3-8fa6-457c-b72a-3f1d60bc4cd5"
      },
      "source": [
        "#1.12 cont\n",
        "n_bins = 54\n",
        "plt.subplot(1, 2, 1)\n",
        "plt.xlabel('Sodium Total')\n",
        "plt.ylabel('Count')\n",
        "\n",
        "beef = data[data['Type'] == 'Beef']\n",
        "meat = data[data['Type'] == 'Meat']\n",
        "poultry = data[data['Type'] == 'Poultry']\n",
        "shades = ['orange', 'red', 'blue']\n",
        "names = ['beef', 'meat', 'poultry']\n",
        "x_multi = [beef['Sodium'],meat['Sodium'],poultry['Sodium']]\n",
        "plt.hist(x_multi, n_bins, histtype='bar',color=shades,label= names)\n",
        "plt.legend(prop={'size': 5})"
      ],
      "execution_count": 252,
      "outputs": [
        {
          "output_type": "stream",
          "name": "stderr",
          "text": [
            "/usr/local/lib/python3.7/dist-packages/numpy/core/_asarray.py:83: VisibleDeprecationWarning: Creating an ndarray from ragged nested sequences (which is a list-or-tuple of lists-or-tuples-or ndarrays with different lengths or shapes) is deprecated. If you meant to do this, you must specify 'dtype=object' when creating the ndarray\n",
            "  return array(a, dtype, copy=False, order=order)\n"
          ]
        },
        {
          "output_type": "execute_result",
          "data": {
            "text/plain": [
              "<matplotlib.legend.Legend at 0x7f3850528490>"
            ]
          },
          "metadata": {},
          "execution_count": 252
        },
        {
          "output_type": "display_data",
          "data": {
            "image/png": "[encoded data removed]",
            "text/plain": [
              "<Figure size 432x288 with 1 Axes>"
            ]
          },
          "metadata": {
            "needs_background": "light"
          }
        }
      ]
    },
    {
      "cell_type": "code",
      "metadata": {
        "colab": {
          "base_uri": "https://localhost:8080/",
          "height": 204
        },
        "id": "tu0m0zr1Ffc_",
        "outputId": "99502ff9-71c6-41c6-f411-4211bb8c7459"
      },
      "source": [
        "#1.12\n",
        "import pandas as pd\n",
        "data=pd.read_csv(\"Readability.csv\")\n",
        "data.head()\n"
      ],
      "execution_count": 254,
      "outputs": [
        {
          "output_type": "execute_result",
          "data": {
            "text/html": [
              "<div>\n",
              "<style scoped>\n",
              "    .dataframe tbody tr th:only-of-type {\n",
              "        vertical-align: middle;\n",
              "    }\n",
              "\n",
              "    .dataframe tbody tr th {\n",
              "        vertical-align: top;\n",
              "    }\n",
              "\n",
              "    .dataframe thead th {\n",
              "        text-align: right;\n",
              "    }\n",
              "</style>\n",
              "<table border=\"1\" class=\"dataframe\">\n",
              "  <thead>\n",
              "    <tr style=\"text-align: right;\">\n",
              "      <th></th>\n",
              "      <th>WDS</th>\n",
              "      <th>SEN</th>\n",
              "      <th>3SYL</th>\n",
              "      <th>MAG</th>\n",
              "      <th>GROUP</th>\n",
              "    </tr>\n",
              "  </thead>\n",
              "  <tbody>\n",
              "    <tr>\n",
              "      <th>0</th>\n",
              "      <td>205</td>\n",
              "      <td>9</td>\n",
              "      <td>34</td>\n",
              "      <td>1</td>\n",
              "      <td>1</td>\n",
              "    </tr>\n",
              "    <tr>\n",
              "      <th>1</th>\n",
              "      <td>203</td>\n",
              "      <td>20</td>\n",
              "      <td>21</td>\n",
              "      <td>1</td>\n",
              "      <td>1</td>\n",
              "    </tr>\n",
              "    <tr>\n",
              "      <th>2</th>\n",
              "      <td>229</td>\n",
              "      <td>18</td>\n",
              "      <td>37</td>\n",
              "      <td>1</td>\n",
              "      <td>1</td>\n",
              "    </tr>\n",
              "    <tr>\n",
              "      <th>3</th>\n",
              "      <td>208</td>\n",
              "      <td>16</td>\n",
              "      <td>31</td>\n",
              "      <td>1</td>\n",
              "      <td>1</td>\n",
              "    </tr>\n",
              "    <tr>\n",
              "      <th>4</th>\n",
              "      <td>146</td>\n",
              "      <td>9</td>\n",
              "      <td>10</td>\n",
              "      <td>1</td>\n",
              "      <td>1</td>\n",
              "    </tr>\n",
              "  </tbody>\n",
              "</table>\n",
              "</div>"
            ],
            "text/plain": [
              "   WDS  SEN  3SYL  MAG  GROUP\n",
              "0  205    9    34    1      1\n",
              "1  203   20    21    1      1\n",
              "2  229   18    37    1      1\n",
              "3  208   16    31    1      1\n",
              "4  146    9    10    1      1"
            ]
          },
          "metadata": {},
          "execution_count": 254
        }
      ]
    },
    {
      "cell_type": "code",
      "metadata": {
        "colab": {
          "base_uri": "https://localhost:8080/",
          "height": 359
        },
        "id": "gnxrPNq6NocH",
        "outputId": "8c407739-cba9-4a89-9590-25aa83042552"
      },
      "source": [
        "data.sample(10)"
      ],
      "execution_count": 255,
      "outputs": [
        {
          "output_type": "execute_result",
          "data": {
            "text/html": [
              "<div>\n",
              "<style scoped>\n",
              "    .dataframe tbody tr th:only-of-type {\n",
              "        vertical-align: middle;\n",
              "    }\n",
              "\n",
              "    .dataframe tbody tr th {\n",
              "        vertical-align: top;\n",
              "    }\n",
              "\n",
              "    .dataframe thead th {\n",
              "        text-align: right;\n",
              "    }\n",
              "</style>\n",
              "<table border=\"1\" class=\"dataframe\">\n",
              "  <thead>\n",
              "    <tr style=\"text-align: right;\">\n",
              "      <th></th>\n",
              "      <th>WDS</th>\n",
              "      <th>SEN</th>\n",
              "      <th>3SYL</th>\n",
              "      <th>MAG</th>\n",
              "      <th>GROUP</th>\n",
              "    </tr>\n",
              "  </thead>\n",
              "  <tbody>\n",
              "    <tr>\n",
              "      <th>43</th>\n",
              "      <td>169</td>\n",
              "      <td>12</td>\n",
              "      <td>11</td>\n",
              "      <td>8</td>\n",
              "      <td>3</td>\n",
              "    </tr>\n",
              "    <tr>\n",
              "      <th>21</th>\n",
              "      <td>197</td>\n",
              "      <td>18</td>\n",
              "      <td>26</td>\n",
              "      <td>5</td>\n",
              "      <td>2</td>\n",
              "    </tr>\n",
              "    <tr>\n",
              "      <th>25</th>\n",
              "      <td>139</td>\n",
              "      <td>13</td>\n",
              "      <td>15</td>\n",
              "      <td>6</td>\n",
              "      <td>2</td>\n",
              "    </tr>\n",
              "    <tr>\n",
              "      <th>16</th>\n",
              "      <td>39</td>\n",
              "      <td>5</td>\n",
              "      <td>6</td>\n",
              "      <td>3</td>\n",
              "      <td>1</td>\n",
              "    </tr>\n",
              "    <tr>\n",
              "      <th>34</th>\n",
              "      <td>191</td>\n",
              "      <td>25</td>\n",
              "      <td>13</td>\n",
              "      <td>4</td>\n",
              "      <td>2</td>\n",
              "    </tr>\n",
              "    <tr>\n",
              "      <th>41</th>\n",
              "      <td>60</td>\n",
              "      <td>15</td>\n",
              "      <td>10</td>\n",
              "      <td>7</td>\n",
              "      <td>3</td>\n",
              "    </tr>\n",
              "    <tr>\n",
              "      <th>2</th>\n",
              "      <td>229</td>\n",
              "      <td>18</td>\n",
              "      <td>37</td>\n",
              "      <td>1</td>\n",
              "      <td>1</td>\n",
              "    </tr>\n",
              "    <tr>\n",
              "      <th>4</th>\n",
              "      <td>146</td>\n",
              "      <td>9</td>\n",
              "      <td>10</td>\n",
              "      <td>1</td>\n",
              "      <td>1</td>\n",
              "    </tr>\n",
              "    <tr>\n",
              "      <th>5</th>\n",
              "      <td>230</td>\n",
              "      <td>16</td>\n",
              "      <td>24</td>\n",
              "      <td>1</td>\n",
              "      <td>1</td>\n",
              "    </tr>\n",
              "    <tr>\n",
              "      <th>9</th>\n",
              "      <td>80</td>\n",
              "      <td>13</td>\n",
              "      <td>18</td>\n",
              "      <td>2</td>\n",
              "      <td>1</td>\n",
              "    </tr>\n",
              "  </tbody>\n",
              "</table>\n",
              "</div>"
            ],
            "text/plain": [
              "    WDS  SEN  3SYL  MAG  GROUP\n",
              "43  169   12    11    8      3\n",
              "21  197   18    26    5      2\n",
              "25  139   13    15    6      2\n",
              "16   39    5     6    3      1\n",
              "34  191   25    13    4      2\n",
              "41   60   15    10    7      3\n",
              "2   229   18    37    1      1\n",
              "4   146    9    10    1      1\n",
              "5   230   16    24    1      1\n",
              "9    80   13    18    2      1"
            ]
          },
          "metadata": {},
          "execution_count": 255
        }
      ]
    },
    {
      "cell_type": "code",
      "metadata": {
        "colab": {
          "base_uri": "https://localhost:8080/",
          "height": 296
        },
        "id": "3C-pZ9rUNqlk",
        "outputId": "6a518b7d-a442-4949-8af9-a1e485f60388"
      },
      "source": [
        "kid_data = data[\"GROUP\"]\n",
        "leuk_data = data[\"3SYL\"]\n",
        "lung_data = data[\"MAG\"]\n",
        "blad_data = data[\"SEN\"]\n",
        "#a:\n",
        "sns.boxplot(x='GROUP', y='3SYL', data=data)\n",
        "# I see that group 3 has a lot more variety in it's data set, with many outliers. In comparison, Group 1/2\n",
        "# hover around the same 3 syl words, with Group 1 using them the most.\n"
      ],
      "execution_count": 263,
      "outputs": [
        {
          "output_type": "execute_result",
          "data": {
            "text/plain": [
              "<matplotlib.axes._subplots.AxesSubplot at 0x7f3841b2cd90>"
            ]
          },
          "metadata": {},
          "execution_count": 263
        },
        {
          "output_type": "display_data",
          "data": {
            "image/png": "[encoded data removed]",
            "text/plain": [
              "<Figure size 432x288 with 1 Axes>"
            ]
          },
          "metadata": {
            "needs_background": "light"
          }
        }
      ]
    },
    {
      "cell_type": "code",
      "metadata": {
        "colab": {
          "base_uri": "https://localhost:8080/",
          "height": 296
        },
        "id": "dRooXBUOR0Qf",
        "outputId": "7a08d926-9c02-4238-fca0-3bff0a0f89d7"
      },
      "source": [
        "#b:\n",
        "group1 = data[data['GROUP'] == '1']\n",
        "group2 = data[data['GROUP'] == '2']\n",
        "group3 = data[data['GROUP'] == '3']\n",
        "sns.boxplot(x='GROUP', y='SEN', data=data)\n",
        "# I see that all the groups average around the same number of sentences, but Group 3 wildy varies from magazine\n",
        "# to magainze, while Group 2 varies but no outliers, and Group 1's magazines stay around the same number\n",
        "# of sentences each."
      ],
      "execution_count": 264,
      "outputs": [
        {
          "output_type": "execute_result",
          "data": {
            "text/plain": [
              "<matplotlib.axes._subplots.AxesSubplot at 0x7f3841a36350>"
            ]
          },
          "metadata": {},
          "execution_count": 264
        },
        {
          "output_type": "display_data",
          "data": {
            "image/png": "[encoded data removed]",
            "text/plain": [
              "<Figure size 432x288 with 1 Axes>"
            ]
          },
          "metadata": {
            "needs_background": "light"
          }
        }
      ]
    }
  ]
}